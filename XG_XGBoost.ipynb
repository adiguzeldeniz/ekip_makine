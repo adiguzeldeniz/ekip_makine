{
 "cells": [
  {
   "cell_type": "code",
   "execution_count": null,
   "id": "94cb3f3d",
   "metadata": {},
   "outputs": [
    {
     "data": {
      "text/plain": [
       "(4339, 73)"
      ]
     },
     "execution_count": 6,
     "metadata": {},
     "output_type": "execute_result"
    }
   ],
   "source": [
    "import pandas as pd\n",
    "import numpy as np\n",
    "from xgboost import XGBRegressor\n",
    "from sklearn.model_selection import train_test_split\n",
    "from sklearn.model_selection import RandomizedSearchCV\n",
    "from scipy.stats import uniform, randint\n",
    "\n",
    "\n",
    "df = pd.read_csv('all_XG_data.csv')\n",
    "df.head()\n",
    "df.shape"
   ]
  },
  {
   "cell_type": "code",
   "execution_count": 18,
   "id": "28794270",
   "metadata": {},
   "outputs": [
    {
     "name": "stdout",
     "output_type": "stream",
     "text": [
      "Fitting 3 folds for each of 50 candidates, totalling 150 fits\n",
      "Best Random Search Score: -0.07259\n",
      "Best Random Search Parameters: {'booster': 'gbtree', 'grow_policy': 'depthwise', 'learning_rate': np.float64(0.03418737125398759), 'max_depth': 5, 'max_leaves': 77, 'n_estimators': 274}\n"
     ]
    }
   ],
   "source": [
    "variables = df.columns\n",
    "input_variables = variables[variables != 'XG']\n",
    "\n",
    "X = df[input_variables]\n",
    "y = df['XG']\n",
    "X_train, X_test, y_train, y_test = train_test_split(X, y, test_size=0.2, random_state=42)\n",
    "\n",
    "xgb = XGBRegressor(objective='reg:absoluteerror', random_state=90)\n",
    "\n",
    "param_distributions = {\n",
    "    'booster': ['gblinear', 'dart', 'gbtree'],  # List of discrete values\n",
    "    'learning_rate': uniform(0.001, 0.1),  # Continuous uniform distribution between 0.01 and 0.2\n",
    "    'max_leaves': randint(20, 200),  # Integer values between 20 and 100\n",
    "    'n_estimators': randint(50, 400),  # Integer values between 50 and 300\n",
    "    'max_depth': randint(3, 15),  # Integer values between 3 and 10\n",
    "    'grow_policy': ['depthwise', 'lossguide'],  # List of discrete values\n",
    "}\n",
    "\n",
    "random_search = RandomizedSearchCV(\n",
    "    estimator=xgb,\n",
    "    param_distributions=param_distributions,\n",
    "    n_iter=50,\n",
    "    scoring='neg_mean_absolute_error',\n",
    "    cv=3,\n",
    "    random_state=2,\n",
    "    verbose=3,\n",
    "    n_jobs=-1\n",
    ")\n",
    "\n",
    "\n",
    "random_search.fit(X_train, y_train)\n",
    "\n",
    "print(f\"Best Random Search Score: {random_search.best_score_:.5f}\")\n",
    "print(f\"Best Random Search Parameters: {random_search.best_params_}\")\n",
    "\n"
   ]
  },
  {
   "cell_type": "code",
   "execution_count": null,
   "id": "6e2c7254",
   "metadata": {},
   "outputs": [
    {
     "name": "stdout",
     "output_type": "stream",
     "text": [
      "Mean Absolute Error (MAE): 0.065257855913322\n"
     ]
    }
   ],
   "source": [
    "def mae(y_true, y_pred):\n",
    "    return np.mean(abs((y_true - y_pred)))\n",
    "\n",
    "#new_params = {'booster': 'gbtree',\n",
    "#              'grow_policy': 'lossguide', \n",
    "#              'learning_rate': np.float64(0.05185817934340634), \n",
    "#              'max_depth': 9, \n",
    "#              'max_leaves': 35, \n",
    "#              'n_estimators': 283}\n",
    "\n",
    "new_params ={'booster': 'gbtree', 'grow_policy': 'depthwise', 'learning_rate': np.float64(0.03418737125398759), 'max_depth': 5, 'max_leaves': 77, 'n_estimators': 274}\n",
    "#both new params have mae of about 0.065\n",
    "\n",
    "xgb_best = XGBRegressor(**new_params, objective='reg:absoluteerror', random_state=30)\n",
    "\n",
    "xgb_best.fit(X_train, y_train)\n",
    "y_score = xgb_best.predict(X_test)\n",
    "\n",
    "meow = mae(y_test, y_score)\n",
    "\n",
    "print(f\"Mean Absolute Error (MAE): {meow}\")"
   ]
  }
 ],
 "metadata": {
  "kernelspec": {
   "display_name": "Python 3",
   "language": "python",
   "name": "python3"
  },
  "language_info": {
   "codemirror_mode": {
    "name": "ipython",
    "version": 3
   },
   "file_extension": ".py",
   "mimetype": "text/x-python",
   "name": "python",
   "nbconvert_exporter": "python",
   "pygments_lexer": "ipython3",
   "version": "3.11.9"
  }
 },
 "nbformat": 4,
 "nbformat_minor": 5
}
