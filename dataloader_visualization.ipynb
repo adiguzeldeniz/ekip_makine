{
 "cells": [
  {
   "cell_type": "code",
   "execution_count": 7,
   "metadata": {},
   "outputs": [],
   "source": [
    "from data_loader import FootballDataLoader\n",
    "import matplotlib.pyplot as plt\n",
    "import pandas as pd\n"
   ]
  },
  {
   "cell_type": "code",
   "execution_count": null,
   "metadata": {},
   "outputs": [
    {
     "name": "stdout",
     "output_type": "stream",
     "text": [
      "Reading game 1: Game_LYN_FCK_Score_0_2_Day_2024-07-22Z.pkl\n",
      "Loading Game_LYN_FCK_Score_0_2_Day_2024-07-22Z.pkl\n",
      "Data read.\n",
      "11\n"
     ]
    }
   ],
   "source": [
    "data_dir = \"../RestructuredData_2425\"\n",
    "team = \"FCK\"\n",
    "save_dir = \"/Users//\"\n",
    "\n",
    "loader = FootballDataLoader(data_dir, team)\n",
    "\n",
    "# Load first game as DataFrame\n",
    "datasets = loader.load_all_games(n_games=10, just_game=True, speed=True, z=True, col5=True, save= False, verbose=True)\n",
    "df = datasets[0]\n"
   ]
  },
  {
   "cell_type": "code",
   "execution_count": null,
   "metadata": {},
   "outputs": [],
   "source": [
    "plt.figure(figsize=(10, 6))\n",
    "plt.plot(df[\"Ball_x\"], df[\"Ball_y\"], lw=1, alpha=0.8)\n",
    "plt.title(\"Ball trajectory\")\n",
    "plt.xlabel(\"X position (m)\")\n",
    "plt.ylabel(\"Y position (m)\")\n",
    "plt.grid(True)\n",
    "plt.axis(\"equal\")\n",
    "plt.show()"
   ]
  },
  {
   "cell_type": "code",
   "execution_count": null,
   "metadata": {},
   "outputs": [],
   "source": []
  },
  {
   "cell_type": "code",
   "execution_count": null,
   "metadata": {},
   "outputs": [],
   "source": [
    "plt.figure(figsize=(10, 6))\n",
    "plt.plot(df[\"Ball_x\"], df[\"Ball_y\"], label=\"Ball\", color=\"black\", alpha=0.5)\n",
    "\n",
    "for i in range(11):\n",
    "    plt.plot(df[f\"homeplayer_{i}_x\"], df[f\"homeplayer_{i}_y\"], alpha=0.4, label=f\"Home P{i}\")\n",
    "    plt.plot(df[f\"awayplayer_{i}_x\"], df[f\"awayplayer_{i}_y\"], alpha=0.4, linestyle='--', label=f\"Away P{i}\")\n",
    "\n",
    "plt.title(\"Player and Ball Movement\")\n",
    "plt.xlabel(\"X (m)\")\n",
    "plt.ylabel(\"Y (m)\")\n",
    "plt.legend(loc=\"upper right\", bbox_to_anchor=(1.2, 1))\n",
    "plt.axis(\"equal\")\n",
    "plt.grid(True)\n",
    "plt.show()\n"
   ]
  },
  {
   "cell_type": "code",
   "execution_count": null,
   "metadata": {},
   "outputs": [],
   "source": [
    "xg_files, _ = loader.sort_games()\n",
    "xg_data = loader.load_machine_learning_xg(xg_files[0])\n",
    "\n",
    "# Quick view of XG shot positions\n",
    "plt.scatter(xg_data[\"x\"], xg_data[\"y\"], c=xg_data[\"value\"], cmap=\"plasma\", s=100)\n",
    "plt.title(\"Expected Goals (XG) - Shot Positions\")\n",
    "plt.colorbar(label=\"XG Value\")\n",
    "plt.xlabel(\"X\")\n",
    "plt.ylabel(\"Y\")\n",
    "plt.gca().invert_yaxis()\n",
    "plt.grid(True)\n",
    "plt.show()\n"
   ]
  },
  {
   "cell_type": "code",
   "execution_count": null,
   "metadata": {},
   "outputs": [],
   "source": []
  }
 ],
 "metadata": {
  "kernelspec": {
   "display_name": "Python 3",
   "language": "python",
   "name": "python3"
  },
  "language_info": {
   "codemirror_mode": {
    "name": "ipython",
    "version": 3
   },
   "file_extension": ".py",
   "mimetype": "text/x-python",
   "name": "python",
   "nbconvert_exporter": "python",
   "pygments_lexer": "ipython3",
   "version": "3.10.12"
  }
 },
 "nbformat": 4,
 "nbformat_minor": 2
}
