{
 "cells": [
  {
   "cell_type": "code",
   "execution_count": null,
   "id": "c4f70d0e",
   "metadata": {},
   "outputs": [],
   "source": []
  },
  {
   "cell_type": "markdown",
   "id": "af68d22e",
   "metadata": {},
   "source": [
    "## This is a summary of what I'm going to do\n",
    "1. First, ill train the model on all of e.g FCK's games. Ill use this model to predict the initial position of every player. We can then compare it to the actual positions.\n",
    "2. Then ill create a second neural network. A simple RNN should work - what I can do here is predict timestep 2 from timestep 1 and so on. This should allow me to predict the position of every player at the next timestep.\n",
    "3. Ill then run the code with the autoencoder. Theyre 2 different versions of using the code, however from previous code the RNN has given me promising results in predicting the next timestep- am hoping adding all the other games will not mess up the data\n",
    "\n",
    "# I will copy the RNN from the other code but this will be in a separate notebook\n",
    "4. Ill load all the games. I will carry out the RNN method of finding the ball and players - this will just use the one game method (maybe i can take alternating rows as training and alternating rows as testing, though i think this may be too similar). From here I will determine which player is closest to the ball and therefore who has possession. \n",
    "5. I will create a dataframe where each column is a game and the rows represent timesteps. The entries in this dataframe will be the player which has posession of the ball. From here I will find the shap values of each player and from here I will determine the importance of them. "
   ]
  },
  {
   "cell_type": "markdown",
   "id": "744ca256",
   "metadata": {},
   "source": []
  }
 ],
 "metadata": {
  "language_info": {
   "name": "python"
  }
 },
 "nbformat": 4,
 "nbformat_minor": 5
}
