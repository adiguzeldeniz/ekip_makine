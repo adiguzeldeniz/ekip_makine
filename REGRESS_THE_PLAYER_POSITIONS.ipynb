{
 "cells": [
  {
   "cell_type": "code",
   "execution_count": 5,
   "metadata": {},
   "outputs": [],
   "source": [
    "from data_loader import FootballDataLoader\n",
    "from data_visualizer import Visualizer\n",
    "import matplotlib.pyplot as plt\n",
    "import pandas as pd\n",
    "import numpy as np\n"
   ]
  },
  {
   "cell_type": "code",
   "execution_count": 6,
   "metadata": {},
   "outputs": [
    {
     "name": "stdout",
     "output_type": "stream",
     "text": [
      "Reading game 1: Game_LYN_FCK_Score_0_2_Day_2024-07-22Z.pkl\n",
      "Loading Game_LYN_FCK_Score_0_2_Day_2024-07-22Z.pkl\n",
      "Data read.\n",
      "Game 0: shape = (75062, 72)\n"
     ]
    }
   ],
   "source": [
    "# === Setup paths ===\n",
    "data_dir = \"/Users/denizadiguzel/FootballData_FromMathias_May2025/RestructuredData_2425\"\n",
    "team = \"FCK\"\n",
    "save_dir = \"/Users/denizadiguzel/\"  # Optional, used if save=True\n",
    "\n",
    "# === Initialize loader ===\n",
    "loader = FootballDataLoader(data_dir, team)\n",
    "\n",
    "# === Load multiple games ===\n",
    "datasets = loader.load_all_games(\n",
    "    n_games= 1,                     # Or use \"all\" to load everything\n",
    "    in_play_only=False,            # Only use frames when game is in play\n",
    "    speed=False,                  # Skip speed column\n",
    "    z=False,                      # Skip z-coordinate\n",
    "    use_artificial_players=True,  # Use fixed player slots (0–10)\n",
    "    every_n=2,                    # Downsample: keep every 5th frame\n",
    "    save=False,                   # Don’t save to disk\n",
    "    verbose=(False, False)        # Don’t print shapes or show plots\n",
    ")\n",
    "\n",
    "# === Inspect shape of each game ===\n",
    "for i, df in enumerate(datasets):\n",
    "    print(f\"Game {i}: shape = {df.shape}\")"
   ]
  },
  {
   "cell_type": "code",
   "execution_count": 7,
   "metadata": {},
   "outputs": [
    {
     "ename": "KeyError",
     "evalue": "\"None of [Index(['FCKplayer_0_x', 'FCKplayer_1_x', 'FCKplayer_2_x', 'FCKplayer_3_x',\\n       'FCKplayer_4_x', 'FCKplayer_5_x', 'FCKplayer_6_x', 'FCKplayer_7_x',\\n       'FCKplayer_8_x', 'FCKplayer_9_x', 'FCKplayer_10_x'],\\n      dtype='object')] are in the [index]\"",
     "output_type": "error",
     "traceback": [
      "\u001b[0;31m---------------------------------------------------------------------------\u001b[0m",
      "\u001b[0;31mKeyError\u001b[0m                                  Traceback (most recent call last)",
      "Cell \u001b[0;32mIn[7], line 16\u001b[0m\n\u001b[1;32m     13\u001b[0m opp_y \u001b[38;5;241m=\u001b[39m [\u001b[38;5;124mf\u001b[39m\u001b[38;5;124m\"\u001b[39m\u001b[38;5;124mOPPplayer_\u001b[39m\u001b[38;5;132;01m{\u001b[39;00mi\u001b[38;5;132;01m}\u001b[39;00m\u001b[38;5;124m_y\u001b[39m\u001b[38;5;124m\"\u001b[39m \u001b[38;5;28;01mfor\u001b[39;00m i \u001b[38;5;129;01min\u001b[39;00m player_ids]\n\u001b[1;32m     15\u001b[0m \u001b[38;5;66;03m# === Compute mean positions ===\u001b[39;00m\n\u001b[0;32m---> 16\u001b[0m mean_fck_x \u001b[38;5;241m=\u001b[39m df_first_half[fck_x]\u001b[38;5;241m.\u001b[39mmean()\n\u001b[1;32m     17\u001b[0m mean_fck_y \u001b[38;5;241m=\u001b[39m df_first_half[fck_y]\u001b[38;5;241m.\u001b[39mmean()\n\u001b[1;32m     18\u001b[0m mean_opp_x \u001b[38;5;241m=\u001b[39m df_first_half[opp_x]\u001b[38;5;241m.\u001b[39mmean()\n",
      "File \u001b[0;32m/opt/anaconda3/lib/python3.12/site-packages/pandas/core/series.py:1153\u001b[0m, in \u001b[0;36mSeries.__getitem__\u001b[0;34m(self, key)\u001b[0m\n\u001b[1;32m   1150\u001b[0m     key \u001b[38;5;241m=\u001b[39m np\u001b[38;5;241m.\u001b[39masarray(key, dtype\u001b[38;5;241m=\u001b[39m\u001b[38;5;28mbool\u001b[39m)\n\u001b[1;32m   1151\u001b[0m     \u001b[38;5;28;01mreturn\u001b[39;00m \u001b[38;5;28mself\u001b[39m\u001b[38;5;241m.\u001b[39m_get_rows_with_mask(key)\n\u001b[0;32m-> 1153\u001b[0m \u001b[38;5;28;01mreturn\u001b[39;00m \u001b[38;5;28mself\u001b[39m\u001b[38;5;241m.\u001b[39m_get_with(key)\n",
      "File \u001b[0;32m/opt/anaconda3/lib/python3.12/site-packages/pandas/core/series.py:1194\u001b[0m, in \u001b[0;36mSeries._get_with\u001b[0;34m(self, key)\u001b[0m\n\u001b[1;32m   1191\u001b[0m         \u001b[38;5;28;01mreturn\u001b[39;00m \u001b[38;5;28mself\u001b[39m\u001b[38;5;241m.\u001b[39miloc[key]\n\u001b[1;32m   1193\u001b[0m \u001b[38;5;66;03m# handle the dup indexing case GH#4246\u001b[39;00m\n\u001b[0;32m-> 1194\u001b[0m \u001b[38;5;28;01mreturn\u001b[39;00m \u001b[38;5;28mself\u001b[39m\u001b[38;5;241m.\u001b[39mloc[key]\n",
      "File \u001b[0;32m/opt/anaconda3/lib/python3.12/site-packages/pandas/core/indexing.py:1191\u001b[0m, in \u001b[0;36m_LocationIndexer.__getitem__\u001b[0;34m(self, key)\u001b[0m\n\u001b[1;32m   1189\u001b[0m maybe_callable \u001b[38;5;241m=\u001b[39m com\u001b[38;5;241m.\u001b[39mapply_if_callable(key, \u001b[38;5;28mself\u001b[39m\u001b[38;5;241m.\u001b[39mobj)\n\u001b[1;32m   1190\u001b[0m maybe_callable \u001b[38;5;241m=\u001b[39m \u001b[38;5;28mself\u001b[39m\u001b[38;5;241m.\u001b[39m_check_deprecated_callable_usage(key, maybe_callable)\n\u001b[0;32m-> 1191\u001b[0m \u001b[38;5;28;01mreturn\u001b[39;00m \u001b[38;5;28mself\u001b[39m\u001b[38;5;241m.\u001b[39m_getitem_axis(maybe_callable, axis\u001b[38;5;241m=\u001b[39maxis)\n",
      "File \u001b[0;32m/opt/anaconda3/lib/python3.12/site-packages/pandas/core/indexing.py:1420\u001b[0m, in \u001b[0;36m_LocIndexer._getitem_axis\u001b[0;34m(self, key, axis)\u001b[0m\n\u001b[1;32m   1417\u001b[0m     \u001b[38;5;28;01mif\u001b[39;00m \u001b[38;5;28mhasattr\u001b[39m(key, \u001b[38;5;124m\"\u001b[39m\u001b[38;5;124mndim\u001b[39m\u001b[38;5;124m\"\u001b[39m) \u001b[38;5;129;01mand\u001b[39;00m key\u001b[38;5;241m.\u001b[39mndim \u001b[38;5;241m>\u001b[39m \u001b[38;5;241m1\u001b[39m:\n\u001b[1;32m   1418\u001b[0m         \u001b[38;5;28;01mraise\u001b[39;00m \u001b[38;5;167;01mValueError\u001b[39;00m(\u001b[38;5;124m\"\u001b[39m\u001b[38;5;124mCannot index with multidimensional key\u001b[39m\u001b[38;5;124m\"\u001b[39m)\n\u001b[0;32m-> 1420\u001b[0m     \u001b[38;5;28;01mreturn\u001b[39;00m \u001b[38;5;28mself\u001b[39m\u001b[38;5;241m.\u001b[39m_getitem_iterable(key, axis\u001b[38;5;241m=\u001b[39maxis)\n\u001b[1;32m   1422\u001b[0m \u001b[38;5;66;03m# nested tuple slicing\u001b[39;00m\n\u001b[1;32m   1423\u001b[0m \u001b[38;5;28;01mif\u001b[39;00m is_nested_tuple(key, labels):\n",
      "File \u001b[0;32m/opt/anaconda3/lib/python3.12/site-packages/pandas/core/indexing.py:1360\u001b[0m, in \u001b[0;36m_LocIndexer._getitem_iterable\u001b[0;34m(self, key, axis)\u001b[0m\n\u001b[1;32m   1357\u001b[0m \u001b[38;5;28mself\u001b[39m\u001b[38;5;241m.\u001b[39m_validate_key(key, axis)\n\u001b[1;32m   1359\u001b[0m \u001b[38;5;66;03m# A collection of keys\u001b[39;00m\n\u001b[0;32m-> 1360\u001b[0m keyarr, indexer \u001b[38;5;241m=\u001b[39m \u001b[38;5;28mself\u001b[39m\u001b[38;5;241m.\u001b[39m_get_listlike_indexer(key, axis)\n\u001b[1;32m   1361\u001b[0m \u001b[38;5;28;01mreturn\u001b[39;00m \u001b[38;5;28mself\u001b[39m\u001b[38;5;241m.\u001b[39mobj\u001b[38;5;241m.\u001b[39m_reindex_with_indexers(\n\u001b[1;32m   1362\u001b[0m     {axis: [keyarr, indexer]}, copy\u001b[38;5;241m=\u001b[39m\u001b[38;5;28;01mTrue\u001b[39;00m, allow_dups\u001b[38;5;241m=\u001b[39m\u001b[38;5;28;01mTrue\u001b[39;00m\n\u001b[1;32m   1363\u001b[0m )\n",
      "File \u001b[0;32m/opt/anaconda3/lib/python3.12/site-packages/pandas/core/indexing.py:1558\u001b[0m, in \u001b[0;36m_LocIndexer._get_listlike_indexer\u001b[0;34m(self, key, axis)\u001b[0m\n\u001b[1;32m   1555\u001b[0m ax \u001b[38;5;241m=\u001b[39m \u001b[38;5;28mself\u001b[39m\u001b[38;5;241m.\u001b[39mobj\u001b[38;5;241m.\u001b[39m_get_axis(axis)\n\u001b[1;32m   1556\u001b[0m axis_name \u001b[38;5;241m=\u001b[39m \u001b[38;5;28mself\u001b[39m\u001b[38;5;241m.\u001b[39mobj\u001b[38;5;241m.\u001b[39m_get_axis_name(axis)\n\u001b[0;32m-> 1558\u001b[0m keyarr, indexer \u001b[38;5;241m=\u001b[39m ax\u001b[38;5;241m.\u001b[39m_get_indexer_strict(key, axis_name)\n\u001b[1;32m   1560\u001b[0m \u001b[38;5;28;01mreturn\u001b[39;00m keyarr, indexer\n",
      "File \u001b[0;32m/opt/anaconda3/lib/python3.12/site-packages/pandas/core/indexes/base.py:6200\u001b[0m, in \u001b[0;36mIndex._get_indexer_strict\u001b[0;34m(self, key, axis_name)\u001b[0m\n\u001b[1;32m   6197\u001b[0m \u001b[38;5;28;01melse\u001b[39;00m:\n\u001b[1;32m   6198\u001b[0m     keyarr, indexer, new_indexer \u001b[38;5;241m=\u001b[39m \u001b[38;5;28mself\u001b[39m\u001b[38;5;241m.\u001b[39m_reindex_non_unique(keyarr)\n\u001b[0;32m-> 6200\u001b[0m \u001b[38;5;28mself\u001b[39m\u001b[38;5;241m.\u001b[39m_raise_if_missing(keyarr, indexer, axis_name)\n\u001b[1;32m   6202\u001b[0m keyarr \u001b[38;5;241m=\u001b[39m \u001b[38;5;28mself\u001b[39m\u001b[38;5;241m.\u001b[39mtake(indexer)\n\u001b[1;32m   6203\u001b[0m \u001b[38;5;28;01mif\u001b[39;00m \u001b[38;5;28misinstance\u001b[39m(key, Index):\n\u001b[1;32m   6204\u001b[0m     \u001b[38;5;66;03m# GH 42790 - Preserve name from an Index\u001b[39;00m\n",
      "File \u001b[0;32m/opt/anaconda3/lib/python3.12/site-packages/pandas/core/indexes/base.py:6249\u001b[0m, in \u001b[0;36mIndex._raise_if_missing\u001b[0;34m(self, key, indexer, axis_name)\u001b[0m\n\u001b[1;32m   6247\u001b[0m \u001b[38;5;28;01mif\u001b[39;00m nmissing:\n\u001b[1;32m   6248\u001b[0m     \u001b[38;5;28;01mif\u001b[39;00m nmissing \u001b[38;5;241m==\u001b[39m \u001b[38;5;28mlen\u001b[39m(indexer):\n\u001b[0;32m-> 6249\u001b[0m         \u001b[38;5;28;01mraise\u001b[39;00m \u001b[38;5;167;01mKeyError\u001b[39;00m(\u001b[38;5;124mf\u001b[39m\u001b[38;5;124m\"\u001b[39m\u001b[38;5;124mNone of [\u001b[39m\u001b[38;5;132;01m{\u001b[39;00mkey\u001b[38;5;132;01m}\u001b[39;00m\u001b[38;5;124m] are in the [\u001b[39m\u001b[38;5;132;01m{\u001b[39;00maxis_name\u001b[38;5;132;01m}\u001b[39;00m\u001b[38;5;124m]\u001b[39m\u001b[38;5;124m\"\u001b[39m)\n\u001b[1;32m   6251\u001b[0m     not_found \u001b[38;5;241m=\u001b[39m \u001b[38;5;28mlist\u001b[39m(ensure_index(key)[missing_mask\u001b[38;5;241m.\u001b[39mnonzero()[\u001b[38;5;241m0\u001b[39m]]\u001b[38;5;241m.\u001b[39munique())\n\u001b[1;32m   6252\u001b[0m     \u001b[38;5;28;01mraise\u001b[39;00m \u001b[38;5;167;01mKeyError\u001b[39;00m(\u001b[38;5;124mf\u001b[39m\u001b[38;5;124m\"\u001b[39m\u001b[38;5;132;01m{\u001b[39;00mnot_found\u001b[38;5;132;01m}\u001b[39;00m\u001b[38;5;124m not in index\u001b[39m\u001b[38;5;124m\"\u001b[39m)\n",
      "\u001b[0;31mKeyError\u001b[0m: \"None of [Index(['FCKplayer_0_x', 'FCKplayer_1_x', 'FCKplayer_2_x', 'FCKplayer_3_x',\\n       'FCKplayer_4_x', 'FCKplayer_5_x', 'FCKplayer_6_x', 'FCKplayer_7_x',\\n       'FCKplayer_8_x', 'FCKplayer_9_x', 'FCKplayer_10_x'],\\n      dtype='object')] are in the [index]\""
     ]
    }
   ],
   "source": [
    "import matplotlib.pyplot as plt\n",
    "import numpy as np\n",
    "\n",
    "# === Use first game and filter for first half ===\n",
    "df = datasets[0]\n",
    "df_first_half = df[\"half\"]\n",
    "\n",
    "# === Player slot IDs ===\n",
    "player_ids = list(range(11))\n",
    "fck_x = [f\"FCKplayer_{i}_x\" for i in player_ids]\n",
    "fck_y = [f\"FCKplayer_{i}_y\" for i in player_ids]\n",
    "opp_x = [f\"OPPplayer_{i}_x\" for i in player_ids]\n",
    "opp_y = [f\"OPPplayer_{i}_y\" for i in player_ids]\n",
    "\n",
    "# === Compute mean positions ===\n",
    "mean_fck_x = df_first_half[fck_x].mean()\n",
    "mean_fck_y = df_first_half[fck_y].mean()\n",
    "mean_opp_x = df_first_half[opp_x].mean()\n",
    "mean_opp_y = df_first_half[opp_y].mean()\n",
    "\n",
    "# === Get min and max from all player coordinates (FCK + OPP) ===\n",
    "all_x_vals = df_first_half[fck_x + opp_x].values.flatten()\n",
    "all_y_vals = df_first_half[fck_y + opp_y].values.flatten()\n",
    "x_min, x_max = np.nanmin(all_x_vals), np.nanmax(all_x_vals)\n",
    "y_min, y_max = np.nanmin(all_y_vals), np.nanmax(all_y_vals)\n",
    "\n",
    "# === Normalize to [-1, 1] ===\n",
    "norm_fck_x = 2 * (mean_fck_x - x_min) / (x_max - x_min) - 1\n",
    "norm_fck_y = 2 * (mean_fck_y - y_min) / (y_max - y_min) - 1\n",
    "norm_opp_x = 2 * (mean_opp_x - x_min) / (x_max - x_min) - 1\n",
    "norm_opp_y = 2 * (mean_opp_y - y_min) / (y_max - y_min) - 1\n",
    "\n",
    "# === Plotting ===\n",
    "fig, ax = plt.subplots(figsize=(8, 8))\n",
    "ax.set_title(\"Normalized Average Positions – First Half\", fontsize=14)\n",
    "ax.set_xlabel(\"Normalized x\")\n",
    "ax.set_ylabel(\"Normalized y\")\n",
    "ax.set_xlim(-1, 1)\n",
    "ax.set_ylim(-1, 1)\n",
    "ax.grid(True, linestyle=\"--\", alpha=0.3)\n",
    "\n",
    "# Plot FCK players\n",
    "for i in player_ids:\n",
    "    x = norm_fck_x[f\"FCKplayer_{i}_x\"]\n",
    "    y = norm_fck_y[f\"FCKplayer_{i}_y\"]\n",
    "    ax.plot(x, y, \"o\", color=\"blue\", label=\"FCK\" if i == 0 else \"\")\n",
    "    ax.text(x + 0.02, y, f\"{i}\", fontsize=9, color=\"blue\")\n",
    "\n",
    "# Plot OPP players\n",
    "for i in player_ids:\n",
    "    x = norm_opp_x[f\"OPPplayer_{i}_x\"]\n",
    "    y = norm_opp_y[f\"OPPplayer_{i}_y\"]\n",
    "    ax.plot(x, y, \"s\", color=\"red\", label=\"OPP\" if i == 0 else \"\")\n",
    "    ax.text(x + 0.02, y, f\"{i}\", fontsize=9, color=\"red\")\n",
    "\n",
    "ax.legend(loc=\"upper right\")\n",
    "plt.tight_layout()\n",
    "plt.show()\n"
   ]
  },
  {
   "cell_type": "code",
   "execution_count": null,
   "metadata": {},
   "outputs": [],
   "source": []
  },
  {
   "cell_type": "code",
   "execution_count": null,
   "metadata": {},
   "outputs": [],
   "source": []
  }
 ],
 "metadata": {
  "kernelspec": {
   "display_name": "base",
   "language": "python",
   "name": "python3"
  },
  "language_info": {
   "codemirror_mode": {
    "name": "ipython",
    "version": 3
   },
   "file_extension": ".py",
   "mimetype": "text/x-python",
   "name": "python",
   "nbconvert_exporter": "python",
   "pygments_lexer": "ipython3",
   "version": "3.12.7"
  }
 },
 "nbformat": 4,
 "nbformat_minor": 2
}
